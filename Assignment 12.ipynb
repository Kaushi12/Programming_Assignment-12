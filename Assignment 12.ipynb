{
 "cells": [
  {
   "cell_type": "code",
   "execution_count": 5,
   "metadata": {},
   "outputs": [
    {
     "name": "stdout",
     "output_type": "stream",
     "text": [
      "Enter no of keys: 5\n",
      "Enter key for d: name \n",
      "Enter value for d: kaushiki\n",
      "Enter key for d: course\n",
      "Enter value for d: full stack\n",
      "Enter key for d: age \n",
      "Enter value for d: 21\n",
      "Enter key for d: name2\n",
      "Enter value for d: jyoti\n",
      "Enter key for d: age2\n",
      "Enter value for d: 21\n",
      "{'name ': 'kaushiki', 'course': 'full stack', 'age ': '21', 'name2': 'jyoti', 'age2': '21'}\n"
     ]
    }
   ],
   "source": [
    "#Ques1\n",
    "d={}\n",
    "n=int(input(\"Enter no of keys: \"))\n",
    "for i in range(n):\n",
    "    key=input(\"Enter key for d: \")\n",
    "    value=input(\"Enter value for d: \")\n",
    "    d[key]=value\n",
    "print(d)\n",
    "    \n",
    "    "
   ]
  },
  {
   "cell_type": "code",
   "execution_count": 8,
   "metadata": {},
   "outputs": [
    {
     "name": "stdout",
     "output_type": "stream",
     "text": [
      "['kaushiki', 'full stack', '21', 'jyoti']\n"
     ]
    }
   ],
   "source": [
    "#Question1\n",
    "#printing in list\n",
    "list =[] # create empty list\n",
    "for val in d.values(): \n",
    "  if val in list: \n",
    "    continue \n",
    "  else:\n",
    "    list.append(val)\n",
    "\n",
    "print(list)\n",
    "    "
   ]
  },
  {
   "cell_type": "code",
   "execution_count": 10,
   "metadata": {},
   "outputs": [
    {
     "name": "stdout",
     "output_type": "stream",
     "text": [
      "Unique Values:  {'21', 'jyoti', 'full stack', 'kaushiki'}\n"
     ]
    }
   ],
   "source": [
    "#Question1\n",
    "#printing in set\n",
    "u_value = set( val for dic in d for val in d.values())\n",
    "print(\"Unique Values: \",u_value)"
   ]
  },
  {
   "cell_type": "code",
   "execution_count": 1,
   "metadata": {},
   "outputs": [
    {
     "name": "stdout",
     "output_type": "stream",
     "text": [
      "Enter no of keys: 3\n",
      "Enter key for d1: x\n",
      "Enter value for d1: 200\n",
      "Enter key for d1: y\n",
      "Enter value for d1: 300\n",
      "Enter key for d1: z\n",
      "Enter value for d1: 100\n",
      "{'x': '200', 'y': '300', 'z': '100'}\n"
     ]
    }
   ],
   "source": [
    "d1={}\n",
    "n=int(input(\"Enter no of keys: \"))\n",
    "for i in range(n):\n",
    "    key=input(\"Enter key for d1: \")\n",
    "    value=input(\"Enter value for d1: \")\n",
    "    d1[key]=value\n",
    "print(d1)\n",
    "    "
   ]
  },
  {
   "cell_type": "code",
   "execution_count": 3,
   "metadata": {},
   "outputs": [
    {
     "name": "stdout",
     "output_type": "stream",
     "text": [
      "Sum of items in dictionary d1 is:  600\n"
     ]
    }
   ],
   "source": [
    "sum1=0\n",
    "for val in d1.values():\n",
    "    sum1=sum1+int(val)\n",
    "print(\"Sum of items in dictionary d1 is: \",sum1)"
   ]
  },
  {
   "cell_type": "code",
   "execution_count": 6,
   "metadata": {},
   "outputs": [
    {
     "name": "stdout",
     "output_type": "stream",
     "text": [
      "{'x': '200', 'y': '300', 'z': '100', 'name ': 'kaushiki', 'course': 'full stack', 'age ': '21', 'name2': 'jyoti', 'age2': '21'}\n"
     ]
    }
   ],
   "source": [
    "#Ques3\n",
    "dict_3 = d1.copy()\n",
    "dict_3.update(d)\n",
    "\n",
    "print(dict_3)"
   ]
  },
  {
   "cell_type": "code",
   "execution_count": 7,
   "metadata": {},
   "outputs": [
    {
     "name": "stdout",
     "output_type": "stream",
     "text": [
      "The dictionary is : \n",
      "{'month_num': [1, 2, 3, 4, 5, 6], 'name_of_month': ['Jan', 'Feb', 'March', 'Apr', 'May', 'June']}\n",
      "The flattened dictionary is: \n",
      "{1: 'Jan', 2: 'Feb', 3: 'March', 4: 'Apr', 5: 'May', 6: 'June'}\n"
     ]
    }
   ],
   "source": [
    "#Ques4\n",
    "from itertools import product\n",
    "\n",
    "my_dict = {'month_num' : [1, 2, 3, 4, 5, 6], 'name_of_month' : ['Jan', 'Feb', 'March', 'Apr', 'May', 'June']}\n",
    "\n",
    "print(\"The dictionary is : \")\n",
    "print(my_dict)\n",
    "\n",
    "my_result = dict(zip(my_dict['month_num'], my_dict['name_of_month']))\n",
    "\n",
    "print(\"The flattened dictionary is: \")\n",
    "print(my_result)"
   ]
  },
  {
   "cell_type": "code",
   "execution_count": 8,
   "metadata": {},
   "outputs": [
    {
     "name": "stdout",
     "output_type": "stream",
     "text": [
      "The dictionary is :\n",
      "OrderedDict([('Will', '1'), ('James', '2'), ('Rob', '4')])\n",
      "The resultant dictionary is : \n",
      "OrderedDict([('Mark', '7'), ('Will', '1'), ('James', '2'), ('Rob', '4')])\n"
     ]
    }
   ],
   "source": [
    "from collections import OrderedDict\n",
    "\n",
    "my_ordered_dict = OrderedDict([('Will', '1'), ('James', '2'), ('Rob', '4')])\n",
    "print(\"The dictionary is :\")\n",
    "print(my_ordered_dict)\n",
    "my_ordered_dict.update({'Mark':'7'})\n",
    "my_ordered_dict.move_to_end('Mark', last = False)\n",
    "\n",
    "print(\"The resultant dictionary is : \")\n",
    "print(my_ordered_dict)"
   ]
  },
  {
   "cell_type": "code",
   "execution_count": 9,
   "metadata": {},
   "outputs": [
    {
     "name": "stdout",
     "output_type": "stream",
     "text": [
      "{6: 3, 5: 4, 1: 6}\n"
     ]
    }
   ],
   "source": [
    "#Ques7\n",
    "dt = {5:4, 1:6, 6:3}\n",
    "\n",
    "sorted_dt = {key: value for key, value in sorted(dt.items(), key=lambda item: item[1])}\n",
    "\n",
    "print(sorted_dt)"
   ]
  },
  {
   "cell_type": "code",
   "execution_count": 10,
   "metadata": {},
   "outputs": [
    {
     "name": "stdout",
     "output_type": "stream",
     "text": [
      "The string is \n",
      "Hi Mark\n",
      "The input pattern is \n",
      "Ma\n",
      "The order of pattern is correct\n"
     ]
    }
   ],
   "source": [
    "from collections import OrderedDict\n",
    "def check_order(my_input, my_pattern):\n",
    "   my_dict = OrderedDict.fromkeys(my_input)\n",
    "   pattern_length = 0\n",
    "   for key,value in my_dict.items():\n",
    "      if (key == my_pattern[pattern_length]):\n",
    "         pattern_length = pattern_length + 1\n",
    "\n",
    "      if (pattern_length == (len(my_pattern))):\n",
    "         return 'The order of pattern is correct'\n",
    "\n",
    "   return 'The order of pattern is incorrect'\n",
    "\n",
    "my_input = 'Hi Mark'\n",
    "input_pattern = 'Ma'\n",
    "print(\"The string is \")\n",
    "print(my_input)\n",
    "print(\"The input pattern is \")\n",
    "print(input_pattern)\n",
    "print(check_order(my_input,input_pattern))"
   ]
  },
  {
   "cell_type": "code",
   "execution_count": null,
   "metadata": {},
   "outputs": [],
   "source": []
  }
 ],
 "metadata": {
  "kernelspec": {
   "display_name": "Python 3",
   "language": "python",
   "name": "python3"
  },
  "language_info": {
   "codemirror_mode": {
    "name": "ipython",
    "version": 3
   },
   "file_extension": ".py",
   "mimetype": "text/x-python",
   "name": "python",
   "nbconvert_exporter": "python",
   "pygments_lexer": "ipython3",
   "version": "3.8.5"
  }
 },
 "nbformat": 4,
 "nbformat_minor": 4
}
